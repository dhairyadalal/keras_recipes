{
 "cells": [
  {
   "cell_type": "markdown",
   "metadata": {},
   "source": [
    "# Overview\n",
    "\n",
    "Word2Vec is one algorithm for learning a word embedding from a text corpus. There are two main training algorithms that can be used to learn the embedding from text; they are Continuous Bag-of-Words (CBOW) and skip grams.\n",
    "\n",
    "Gensim provides the Word2Vec class for working with a Word2Vec model. Learning a word embedding from text involves loading and organizing the text into sentences and providing them to the constructor of a new Word2Vec() instance.\n",
    "\n",
    "Word2Vec sample parameters:\n",
    "\n",
    "    - size: (default 100) The number of dimensions of the embedding, e.g. the length of the dense vector to represent each token (word).\n",
    "    - window: (default 5) The maximum distance between a target word and words around the target word.\n",
    "    - min count: (default 5) The minimum count of words to consider when training the model; words with an occurrence less than this count will be ignored.\n",
    "    - workers: (default 3) The number of threads to use while training.\n",
    "    - sg: (default 0 or CBOW) The training algorithm, either CBOW (0) or skip gram (1).\n",
    "    \n",
    "After the model is trained, it is accessible via the wv attribute."
   ]
  },
  {
   "cell_type": "code",
   "execution_count": 5,
   "metadata": {},
   "outputs": [
    {
     "name": "stdout",
     "output_type": "stream",
     "text": [
      "vocab:  ['this', 'is', 'the', 'first', 'sentence', 'for', 'word2vec', 'second', 'yet', 'another', 'one', 'more', 'and', 'final']\n",
      "vector for 'sentence':  [ 3.1439364e-03  9.5028500e-04  2.7835707e-03  3.1352739e-03\n",
      "  4.2390935e-03 -1.5161904e-03  1.1548786e-03 -4.2492128e-03\n",
      "  1.9076599e-03 -3.2465404e-03 -4.9408539e-03  2.3700439e-03\n",
      " -4.2715500e-04  4.0828786e-03 -3.4725328e-03  1.9437830e-03\n",
      "  4.2161522e-03  2.9343886e-03  2.9821701e-03 -4.0986361e-03\n",
      "  4.2177397e-03 -2.0715145e-03 -4.8050778e-03 -1.5136076e-03\n",
      " -4.5195497e-03  6.6057814e-04  3.9527742e-03  1.4317381e-03\n",
      "  1.0629682e-04  2.5963661e-06 -2.2794516e-03  2.5774001e-03\n",
      "  8.8775752e-04 -1.5389838e-03  1.7023112e-03 -3.9838531e-04\n",
      "  4.5883250e-03 -6.8975094e-04  1.7323573e-03 -3.4168628e-03\n",
      " -3.0757834e-03  7.8514713e-04 -2.8028227e-03  1.9703605e-03\n",
      " -2.1698221e-03  4.6723234e-03 -5.1325891e-04 -5.4181216e-04\n",
      "  4.8918915e-03 -4.1848770e-03 -4.9417648e-03  3.6112056e-03\n",
      "  3.8742956e-03 -3.8131818e-03  1.1591470e-03  1.1874930e-03\n",
      "  7.0525770e-04 -2.1823398e-03 -1.2447084e-03  4.4521741e-03\n",
      "  4.4216090e-03 -2.8216010e-03  3.4833269e-03 -1.6725005e-03\n",
      "  4.3722535e-03 -2.2384841e-03 -4.9577467e-03 -7.5870560e-04\n",
      "  1.5657922e-03  1.2605665e-03  4.6630097e-03  4.0137167e-03\n",
      "  1.4339248e-03 -1.2732393e-03 -3.6917808e-03  1.1613521e-03\n",
      "  4.1130660e-03 -1.9194080e-04 -4.0453614e-04  1.8324980e-03\n",
      " -1.0308829e-03 -3.6233191e-03  5.1893090e-04 -8.7444892e-04\n",
      "  7.7632815e-04  3.2474750e-03  6.4170832e-04  1.2273991e-03\n",
      " -1.9823897e-03 -4.8435866e-03  4.0076161e-04  1.7368657e-03\n",
      "  3.9631324e-03  4.5623500e-03 -1.3647181e-03 -7.3434610e-04\n",
      "  4.5945155e-03 -1.5784519e-03  2.7228801e-03  1.0700575e-03]\n"
     ]
    },
    {
     "name": "stderr",
     "output_type": "stream",
     "text": [
      "/anaconda3/lib/python3.6/site-packages/ipykernel_launcher.py:18: DeprecationWarning: Call to deprecated `__getitem__` (Method will be removed in 4.0.0, use self.wv.__getitem__() instead).\n"
     ]
    }
   ],
   "source": [
    "from gensim.models import Word2Vec\n",
    "\n",
    "# Define training data\n",
    "sents = [['this', 'is', 'the', 'first', 'sentence', 'for', 'word2vec'],\n",
    "         ['this', 'is', 'the', 'second', 'sentence'], \n",
    "         ['yet', 'another', 'sentence'],\n",
    "         ['one', 'more', 'sentence'],\n",
    "         ['and', 'the', 'final', 'sentence']]\n",
    "\n",
    "# Train Model. Model expects tokenized representation of sentences \n",
    "model = Word2Vec(sents, min_count = 1)\n",
    "\n",
    "# Summarize vocabulary\n",
    "words = list(model.wv.vocab)\n",
    "print(\"vocab: \", words)\n",
    "\n",
    "# Access vector for a single word\n",
    "print(\"vector for 'sentence': \", model[\"sentence\"])\n",
    "\n",
    "# save model\n",
    "# model.save('../data/model.bin')\n",
    "\n",
    "#load model\n",
    "#m = Word2Vec.load('../data/model.bin')"
   ]
  },
  {
   "cell_type": "markdown",
   "metadata": {},
   "source": [
    "## Visualize Word Embeddings\n",
    "\n",
    "You can use classical projection methods to reduce the high-dimensional word vectors to two- dimensional plots and plot them on a graph."
   ]
  },
  {
   "cell_type": "code",
   "execution_count": 14,
   "metadata": {},
   "outputs": [
    {
     "name": "stderr",
     "output_type": "stream",
     "text": [
      "/anaconda3/lib/python3.6/site-packages/ipykernel_launcher.py:4: DeprecationWarning: Call to deprecated `__getitem__` (Method will be removed in 4.0.0, use self.wv.__getitem__() instead).\n",
      "  after removing the cwd from sys.path.\n"
     ]
    },
    {
     "data": {
      "image/png": "[encoded data removed]",
      "text/plain": [
       "<matplotlib.figure.Figure at 0x1a122f9f60>"
      ]
     },
     "metadata": {},
     "output_type": "display_data"
    }
   ],
   "source": [
    "from sklearn.decomposition import PCA\n",
    "from matplotlib import pyplot\n",
    "\n",
    "X = model[model.wv.vocab]\n",
    "pca = PCA(n_components=2)\n",
    "result = pca.fit_transform(X)\n",
    "\n",
    "pyplot.scatter(result[:,0], result[:,1])\n",
    "words = list(model.wv.vocab)\n",
    "\n",
    "for i,word in enumerate(words):\n",
    "    pyplot.annotate(word, xy=(result[i,0], result[i,1]))\n",
    "\n",
    "pyplot.show()"
   ]
  },
  {
   "cell_type": "markdown",
   "metadata": {},
   "source": [
    "## Loading Google's Word2Vec embedding\n",
    "\n",
    "The pre-trained Google Word2Vec model was trained on Google news data (about 100 billion words); it contains 3 million words and phrases and was fit using 300-dimensional word vectors. It is a 1.53 Gigabyte file. \n",
    "\n",
    "You can download it from here: https://drive.google.com/file/d/0B7XkCwpI5KDYNlNUTTlSS21pQmM/edit?usp=sharing\n",
    "\n",
    "Unzipped, the binary file (GoogleNews-vectors-negative300.bin) is 3.4 Gigabytes. The Gensim library provides tools to load this file. Specifically, you can call the KeyedVectors.load word2vec format() function to load this model into memory, for example:"
   ]
  },
  {
   "cell_type": "code",
   "execution_count": 15,
   "metadata": {},
   "outputs": [
    {
     "name": "stdout",
     "output_type": "stream",
     "text": [
      "[('queen', 0.7118192911148071)]\n"
     ]
    }
   ],
   "source": [
    "from gensim.models import KeyedVectors\n",
    "\n",
    "fn = \"../data/word_vectors/GoogleNews-vectors-negative300.bin\"\n",
    "model = KeyedVectors.load_word2vec_format(fn, binary=True)\n",
    "\n",
    "# calculate: (king - man) + woman = ?\n",
    "result = model.most_similar(positive=['woman', 'king'], negative=['man'], topn=1) \n",
    "print(result)"
   ]
  },
  {
   "cell_type": "markdown",
   "metadata": {},
   "source": [
    "## Load Stanford's GloVe Embedding\n",
    "\n",
    "You can download the GloVe pre-trained word vectors and load them easily with Gensim. The first step is to convert the GloVe file format to the Word2Vec file format. The only difference is the addition of a small header line. This can be done by calling the glove2word2vec() function. \n",
    "\n",
    "\n",
    "Once converted, the file can be loaded just like Word2Vec file above. Let’s make this concrete with an example. You can download the smallest GloVe pre-trained model from the GloVe website. It an 822 Megabyte zip file with 4 different models (50, 100, 200 and 300-dimensional vectors) trained on Wikipedia data with 6 billion tokens and a 400,000 word vocabulary. \n",
    "\n",
    "The direct download link is here: http://nlp.stanford.edu/data/glove.6B.zip"
   ]
  },
  {
   "cell_type": "code",
   "execution_count": 16,
   "metadata": {},
   "outputs": [
    {
     "name": "stdout",
     "output_type": "stream",
     "text": [
      "[('queen', 0.7698541283607483)]\n"
     ]
    }
   ],
   "source": [
    "from gensim.scripts.glove2word2vec import glove2word2vec\n",
    "\n",
    "gf = \"../data/word_vectors/glove.6B.100d.txt\"\n",
    "w2v_out = \"../data/word_vectors/glove.6B.100d.txt.word2vec\"\n",
    "\n",
    "glove2word2vec(gf, w2v_out)\n",
    "\n",
    "model = KeyedVectors.load_word2vec_format(w2v_out, binary=False) \n",
    "\n",
    "# calculate: (king - man) + woman = ?\n",
    "result = model.most_similar(positive=['woman', 'king'], negative=['man'], topn=1) \n",
    "print(result)"
   ]
  },
  {
   "cell_type": "markdown",
   "metadata": {},
   "source": [
    "## Learn and Load Word Embeddings in Keras\n",
    "\n",
    "### Keras Embedding Layer\n",
    "Keras offers an Embedding layer that can be used for neural networks on text data. It requires that the input data be integer encoded, so that each word is represented by a unique integer. This data preparation step can be performed using the Tokenizer API also provided with Keras.\n",
    "\n",
    "The Embedding layer is initialized with random weights and will learn an embedding for all of the words in the training dataset. It is a flexible layer that can be used in a variety of ways, such as:\n",
    "\n",
    "    - It can be used alone to learn a word embedding that can be saved and used in another model later.\n",
    "    - It can be used as part of a deep learning model where the embedding is learned along with the model itself.\n",
    "    - It can be used to load a pre-trained word embedding model, a type of transfer learning. \n",
    "\n",
    "The Embedding layer is defined as the first hidden layer of a network. It must specify 3 arguments:\n",
    "    - input dim: This is the size of the vocabulary in the text data.\n",
    "    For example, if your data is integer encoded to values between 0-\n",
    "    10, then the size of the vocabulary would be 11 words.\n",
    "    - output dim: This is the size of the vector space in which words \n",
    "    will be embedded. It defines the size of the output vectors from \n",
    "    this layer for each word. For example, it could be 32 or 100 or \n",
    "    even larger. Test different values for your problem.\n",
    "    - input length: This is the length of input sequences, as you \n",
    "    would define for any input layer of a Keras model. For example, if \n",
    "    all of your input documents are comprised of 1000 words, this \n",
    "    would be 1000.\n",
    "    \n",
    "The Embedding layer has weights that are learned. If you save your model to file, this will include weights for the Embedding layer. The output of the Embedding layer is a 2D vector with one embedding for each word in the input sequence of words (input document). \n",
    "\n",
    "If you wish to connect a Dense layer directly to an Embedding layer, you must first flatten the 2D output matrix to a 1D vector using the Flatten layer."
   ]
  },
  {
   "cell_type": "code",
   "execution_count": 22,
   "metadata": {},
   "outputs": [],
   "source": [
    "# Goal: Classify input as positive or negative\n",
    "import numpy as np\n",
    "from keras.preprocessing.text import one_hot\n",
    "from keras.preprocessing.sequence import pad_sequences\n",
    "from keras.models import Sequential\n",
    "from keras.layers import Dense, Flatten\n",
    "from keras.layers.embeddings import Embedding\n",
    "\n",
    "docs = ['Well done!', 'Good work', 'Great effort', \n",
    "        'nice work', 'Excellent!', 'Weak',\n",
    "        'Poor effort!', 'not good', 'poor work',\n",
    "        'Could have done better.']\n",
    "\n",
    "# Define class labels. 1 = positive, 0 = negative\n",
    "labels = np.array([1,1,1,1,1,0,0,0,0,0])"
   ]
  },
  {
   "cell_type": "markdown",
   "metadata": {},
   "source": [
    "#### Integer Encode Documents\n",
    "\n",
    "This means that as input the Embedding layer will have sequences of integers. We could experiment with other more sophisticated bag of word model encoding like counts or TF-IDF. Keras provides the one hot() function that creates a hash of each word as an efficient integer encoding. We will estimate the vocabulary size of 50, which is much larger than needed to reduce the probability of collisions from the hash function."
   ]
  },
  {
   "cell_type": "code",
   "execution_count": 23,
   "metadata": {},
   "outputs": [
    {
     "name": "stdout",
     "output_type": "stream",
     "text": [
      "[[20, 7], [16, 47], [22, 38], [26, 47], [2], [46], [45, 38], [17, 16], [45, 47], [29, 39, 7, 23]]\n"
     ]
    }
   ],
   "source": [
    "# Integer encode documents\n",
    "vocab_size = 50\n",
    "encoded_docs = [one_hot(d, vocab_size) for d in docs]\n",
    "print(encoded_docs)"
   ]
  },
  {
   "cell_type": "markdown",
   "metadata": {},
   "source": [
    "#### Pad input sequences\n",
    "\n",
    "The sequences have different lengths and Keras prefers inputs to be vectorized and all inputs to have the same length. We will pad all input sequences to have the length of 4."
   ]
  },
  {
   "cell_type": "code",
   "execution_count": 24,
   "metadata": {},
   "outputs": [
    {
     "name": "stdout",
     "output_type": "stream",
     "text": [
      "[[20  7  0  0]\n",
      " [16 47  0  0]\n",
      " [22 38  0  0]\n",
      " [26 47  0  0]\n",
      " [ 2  0  0  0]\n",
      " [46  0  0  0]\n",
      " [45 38  0  0]\n",
      " [17 16  0  0]\n",
      " [45 47  0  0]\n",
      " [29 39  7 23]]\n"
     ]
    }
   ],
   "source": [
    "# pad documents to a max length of 4 words\n",
    "max_length = 4\n",
    "padded_docs = pad_sequences(encoded_docs, maxlen=max_length, padding='post') \n",
    "print(padded_docs)"
   ]
  },
  {
   "cell_type": "markdown",
   "metadata": {},
   "source": [
    "We are now ready to define our Embedding layer as part of our neural network model. The Embedding layer has a vocabulary of 50 and an input length of 4. We will choose a small embedding space of 8 dimensions. The model is a simple binary classification model. Importantly, the output from the Embedding layer will be 4 vectors of 8 dimensions each, one for each word. We flatten this to a one 32-element vector to pass on to the Dense output layer."
   ]
  },
  {
   "cell_type": "code",
   "execution_count": 25,
   "metadata": {},
   "outputs": [
    {
     "name": "stdout",
     "output_type": "stream",
     "text": [
      "_________________________________________________________________\n",
      "Layer (type)                 Output Shape              Param #   \n",
      "=================================================================\n",
      "embedding_1 (Embedding)      (None, 4, 8)              400       \n",
      "_________________________________________________________________\n",
      "flatten_1 (Flatten)          (None, 32)                0         \n",
      "_________________________________________________________________\n",
      "dense_1 (Dense)              (None, 1)                 33        \n",
      "=================================================================\n",
      "Total params: 433\n",
      "Trainable params: 433\n",
      "Non-trainable params: 0\n",
      "_________________________________________________________________\n"
     ]
    }
   ],
   "source": [
    "# Define Model\n",
    "model = Sequential()\n",
    "model.add(Embedding(vocab_size, 8, input_length=max_length))\n",
    "model.add(Flatten())\n",
    "model.add(Dense(1, activation='sigmoid'))\n",
    "\n",
    "model.compile(optimizer='adam', loss='binary_crossentropy', metrics=['acc'])\n",
    "model.summary()"
   ]
  },
  {
   "cell_type": "code",
   "execution_count": 28,
   "metadata": {},
   "outputs": [
    {
     "name": "stdout",
     "output_type": "stream",
     "text": [
      "Accuracy: 100.000000\n"
     ]
    }
   ],
   "source": [
    "# fit the model\n",
    "model.fit(padded_docs, labels, epochs=50, verbose=0)\n",
    "# evaluate the model\n",
    "loss, accuracy = model.evaluate(padded_docs, labels, verbose=0) \n",
    "print('Accuracy: %f' % (accuracy*100))"
   ]
  },
  {
   "cell_type": "markdown",
   "metadata": {},
   "source": [
    "## Keras w/ Pre-trained GloVe Embedding\n",
    "\n",
    "The Keras Embedding layer can also use a word embedding learned elsewhere.\n",
    "\n",
    "In this case, we need to be able to map words to integers as well as integers to words. Keras provides a Tokenizer class that can be fit on the training data, can convert text to sequences consistently by calling the texts to sequences() method on the Tokenizer class, and provides access to the dictionary mapping of words to integers in a word index attribute."
   ]
  },
  {
   "cell_type": "code",
   "execution_count": 48,
   "metadata": {},
   "outputs": [
    {
     "name": "stdout",
     "output_type": "stream",
     "text": [
      "[[6, 2], [3, 1], [7, 4], [8, 1], [9], [10], [5, 4], [11, 3], [5, 1], [12, 13, 2, 14]]\n",
      "[[ 6  2  0  0]\n",
      " [ 3  1  0  0]\n",
      " [ 7  4  0  0]\n",
      " [ 8  1  0  0]\n",
      " [ 9  0  0  0]\n",
      " [10  0  0  0]\n",
      " [ 5  4  0  0]\n",
      " [11  3  0  0]\n",
      " [ 5  1  0  0]\n",
      " [12 13  2 14]]\n"
     ]
    }
   ],
   "source": [
    "import numpy as np\n",
    "from keras.preprocessing.text import Tokenizer\n",
    "from keras.preprocessing.sequence import pad_sequences\n",
    "from keras.models import Sequential\n",
    "from keras.layers import Dense, Flatten, Embedding\n",
    "\n",
    "docs = ['Well done!', 'Good work', 'Great effort', \n",
    "        'nice work', 'Excellent!', 'Weak',\n",
    "        'Poor effort!', 'not good', 'poor work',\n",
    "        'Could have done better.']\n",
    "\n",
    "# Define class labels. 1 = positive, 0 = negative\n",
    "labels = np.array([1,1,1,1,1,0,0,0,0,0])\n",
    "\n",
    "# prepare tokenizer\n",
    "t = Tokenizer()\n",
    "t.fit_on_texts(docs)\n",
    "vocab_size = len(t.word_index) + 1\n",
    "\n",
    "# integer encode the documents\n",
    "encoded_docs = t.texts_to_sequences(docs)\n",
    "print(encoded_docs)\n",
    "# pad documents to a max length of 4 words\n",
    "max_length = 4\n",
    "padded_docs = pad_sequences(encoded_docs, maxlen=max_length, padding='post') \n",
    "print(padded_docs)"
   ]
  },
  {
   "cell_type": "code",
   "execution_count": 49,
   "metadata": {},
   "outputs": [
    {
     "name": "stdout",
     "output_type": "stream",
     "text": [
      "Loaded 400000 word vectors.\n"
     ]
    }
   ],
   "source": [
    "# load the whole embedding into memory\n",
    "embeddings_index = dict()\n",
    "\n",
    "with open(\"../data/word_vectors/glove.6B.100d.txt\", mode='rt',\n",
    "          encoding='utf-8') as f:\n",
    "    for line in f:\n",
    "        values = line.split()\n",
    "        word = values[0]\n",
    "        coefs = np.asarray(values[1:], dtype=\"float32\")\n",
    "        embeddings_index[word]=coefs\n",
    "f.close()\n",
    "print('Loaded %s word vectors.' % len(embeddings_index)) "
   ]
  },
  {
   "cell_type": "markdown",
   "metadata": {},
   "source": [
    "It might be better to filter the embedding for the unique words in your training data. Next, we need to create a matrix of one embedding for each word in the training dataset. We can do that by enumerating all unique words in the Tokenizer.word index and locating the embedding weight vector from the loaded GloVe embedding. The result is a matrix of weights only for words we will see during training."
   ]
  },
  {
   "cell_type": "code",
   "execution_count": 50,
   "metadata": {},
   "outputs": [
    {
     "name": "stdout",
     "output_type": "stream",
     "text": [
      "work 1\n",
      "done 2\n",
      "good 3\n",
      "effort 4\n",
      "poor 5\n",
      "well 6\n",
      "great 7\n",
      "nice 8\n",
      "excellent 9\n",
      "weak 10\n",
      "not 11\n",
      "could 12\n",
      "have 13\n",
      "better 14\n"
     ]
    },
    {
     "data": {
      "text/plain": [
       "(15, 100)"
      ]
     },
     "execution_count": 50,
     "metadata": {},
     "output_type": "execute_result"
    }
   ],
   "source": [
    "# create a weight matrix for words in training docs\n",
    "embedding_matrix = np.zeros((vocab_size, 100))\n",
    "for word, i in t.word_index.items():\n",
    "    print(word,i)\n",
    "    embedding_vector = embeddings_index.get(word)\n",
    "    if embedding_vector is not None:\n",
    "        embedding_matrix[i] = embedding_vector\n",
    "embedding_matrix.shape"
   ]
  },
  {
   "cell_type": "code",
   "execution_count": 47,
   "metadata": {},
   "outputs": [
    {
     "name": "stdout",
     "output_type": "stream",
     "text": [
      "_________________________________________________________________\n",
      "Layer (type)                 Output Shape              Param #   \n",
      "=================================================================\n",
      "embedding_3 (Embedding)      (None, 4, 100)            1500      \n",
      "_________________________________________________________________\n",
      "flatten_3 (Flatten)          (None, 400)               0         \n",
      "_________________________________________________________________\n",
      "dense_3 (Dense)              (None, 1)                 401       \n",
      "=================================================================\n",
      "Total params: 1,901\n",
      "Trainable params: 401\n",
      "Non-trainable params: 1,500\n",
      "_________________________________________________________________\n"
     ]
    }
   ],
   "source": [
    "# define model\n",
    "model = Sequential()\n",
    "e = Embedding(vocab_size, 100, weights=[embedding_matrix], input_length=4, trainable=False) \n",
    "model.add(e)\n",
    "model.add(Flatten())\n",
    "model.add(Dense(1, activation='sigmoid'))\n",
    "# compile the model\n",
    "model.compile(optimizer='adam', loss='binary_crossentropy', metrics=['acc'])\n",
    "# summarize the model\n",
    "model.summary()"
   ]
  },
  {
   "cell_type": "code",
   "execution_count": 51,
   "metadata": {},
   "outputs": [
    {
     "name": "stdout",
     "output_type": "stream",
     "text": [
      "Accuracy: 100.000000\n"
     ]
    }
   ],
   "source": [
    "# fit the model\n",
    "model.fit(padded_docs, labels, epochs=50, verbose=0)\n",
    "# evaluate the model\n",
    "loss, accuracy = model.evaluate(padded_docs, labels, verbose=0)\n",
    "print('Accuracy: %f' % (accuracy*100))"
   ]
  },
  {
   "cell_type": "code",
   "execution_count": null,
   "metadata": {},
   "outputs": [],
   "source": []
  }
 ],
 "metadata": {
  "kernelspec": {
   "display_name": "Python 3",
   "language": "python",
   "name": "python3"
  },
  "language_info": {
   "codemirror_mode": {
    "name": "ipython",
    "version": 3
   },
   "file_extension": ".py",
   "mimetype": "text/x-python",
   "name": "python",
   "nbconvert_exporter": "python",
   "pygments_lexer": "ipython3",
   "version": "3.6.4"
  }
 },
 "nbformat": 4,
 "nbformat_minor": 2
}
